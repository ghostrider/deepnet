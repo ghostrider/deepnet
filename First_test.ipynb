{
  "nbformat": 4,
  "nbformat_minor": 0,
  "metadata": {
    "colab": {
      "name": "First test",
      "provenance": [],
      "authorship_tag": "ABX9TyP4xlFsiurlno9JLz23EUCR",
      "include_colab_link": true
    },
    "kernelspec": {
      "name": "python3",
      "display_name": "Python 3"
    }
  },
  "cells": [
    {
      "cell_type": "markdown",
      "metadata": {
        "id": "view-in-github",
        "colab_type": "text"
      },
      "source": [
        "<a href=\"https://colab.research.google.com/github/ghostrider/deepnet/blob/master/First_test.ipynb\" target=\"_parent\"><img src=\"https://colab.research.google.com/assets/colab-badge.svg\" alt=\"Open In Colab\"/></a>"
      ]
    },
    {
      "cell_type": "markdown",
      "metadata": {
        "id": "v78bzD2F72m2",
        "colab_type": "text"
      },
      "source": [
        "*This* a test of google colab. This test will: \n",
        "\n",
        "* try to import pytorch \n",
        "* build a very simple neural network\n",
        "* train it on a very very simple data set\n",
        "* compute the output on a very simple data set. \n",
        "\n",
        "\n",
        "\n",
        "\n",
        "\n"
      ]
    },
    {
      "cell_type": "code",
      "metadata": {
        "id": "ZiJSbvyd7YSm",
        "colab_type": "code",
        "colab": {
          "base_uri": "https://localhost:8080/",
          "height": 34
        },
        "outputId": "f5fecd87-be4f-4b8d-81d0-d0b20f70a272"
      },
      "source": [
        "x = 1\n",
        "y = 2\n",
        "z = 1+2\n",
        "print(z)\n"
      ],
      "execution_count": 1,
      "outputs": [
        {
          "output_type": "stream",
          "text": [
            "3\n"
          ],
          "name": "stdout"
        }
      ]
    }
  ]
}