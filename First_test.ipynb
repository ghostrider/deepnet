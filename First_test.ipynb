{
  "nbformat": 4,
  "nbformat_minor": 0,
  "metadata": {
    "colab": {
      "name": "First test",
      "provenance": [],
      "authorship_tag": "ABX9TyP1xgkDCPxh6R3IvqnXQ/X+",
      "include_colab_link": true
    },
    "kernelspec": {
      "name": "python3",
      "display_name": "Python 3"
    }
  },
  "cells": [
    {
      "cell_type": "markdown",
      "metadata": {
        "id": "view-in-github",
        "colab_type": "text"
      },
      "source": [
        "<a href=\"https://colab.research.google.com/github/ghostrider/deepnet/blob/master/First_test.ipynb\" target=\"_parent\"><img src=\"https://colab.research.google.com/assets/colab-badge.svg\" alt=\"Open In Colab\"/></a>"
      ]
    },
    {
      "cell_type": "markdown",
      "metadata": {
        "id": "v78bzD2F72m2",
        "colab_type": "text"
      },
      "source": [
        "This a test of google colab.\n"
      ]
    },
    {
      "cell_type": "code",
      "metadata": {
        "id": "ZiJSbvyd7YSm",
        "colab_type": "code",
        "colab": {}
      },
      "source": [
        "x = 1\n"
      ],
      "execution_count": 0,
      "outputs": []
    }
  ]
}